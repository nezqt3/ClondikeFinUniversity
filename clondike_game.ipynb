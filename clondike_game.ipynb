{
 "cells": [
  {
   "cell_type": "markdown",
   "id": "460db268",
   "metadata": {},
   "source": [
    "<h1>Клондайк</h1>\n",
    "Студенты: Алексеенко Денис, Верещагин Илья <br>\n",
    "Группа: ТРПО25-2\n"
   ]
  },
  {
   "cell_type": "markdown",
   "id": "531f3ac9",
   "metadata": {},
   "source": [
    "Подключаем все необходимые библиотеки. В данном случае нам понадобится библиотека string и элемент из нее printable"
   ]
  },
  {
   "cell_type": "code",
   "execution_count": null,
   "id": "7298d7f7",
   "metadata": {},
   "outputs": [],
   "source": [
    "from string import printable"
   ]
  },
  {
   "cell_type": "markdown",
   "id": "905bfe6d",
   "metadata": {},
   "source": [
    "Создаем функцию для вывода правил для пользователя"
   ]
  },
  {
   "cell_type": "code",
   "execution_count": null,
   "id": "aabae4c3",
   "metadata": {},
   "outputs": [],
   "source": [
    "def print_rules() -> str:\n",
    "    return \"\"\"\n",
    "Игра ведётся на игровом поле размером 10 на 10 клеток. \n",
    "Игроки по очереди выставляют в любую свободную клетку по отметке, и тот игрок, \n",
    "после чьего хода получилась цепочка длиной хотя бы в три отметки, проигрывает. \n",
    "При этом в цепочке считаются как свои отметки, так и отметки соперника, у игровых \n",
    "фишек как бы нет хозяина. Цепочка — это ряд фишек, следующая фишка в котором примыкает к \n",
    "предыдущей с любого из восьми направлений.\n",
    "    \"\"\""
   ]
  }
 ],
 "metadata": {
  "kernelspec": {
   "display_name": "Python 3",
   "language": "python",
   "name": "python3"
  },
  "language_info": {
   "name": "python",
   "version": "3.9.6"
  }
 },
 "nbformat": 4,
 "nbformat_minor": 5
}
