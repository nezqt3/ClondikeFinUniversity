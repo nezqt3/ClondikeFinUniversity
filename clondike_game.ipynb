{
 "cells": [
  {
   "cell_type": "markdown",
   "id": "460db268",
   "metadata": {},
   "source": [
    "<h1>Клондайк</h1>\n",
    "Студенты: Алексеенко Денис, Верещагин Илья <br>\n",
    "Группа: ТРПО25-2\n"
   ]
  }
 ],
 "metadata": {
  "language_info": {
   "name": "python"
  }
 },
 "nbformat": 4,
 "nbformat_minor": 5
}
